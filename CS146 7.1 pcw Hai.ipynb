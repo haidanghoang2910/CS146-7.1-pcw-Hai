{
 "cells": [
  {
   "cell_type": "code",
   "execution_count": 1,
   "metadata": {},
   "outputs": [],
   "source": [
    "import numpy as np\n",
    "import scipy.stats as sts"
   ]
  },
  {
   "cell_type": "code",
   "execution_count": 2,
   "metadata": {},
   "outputs": [],
   "source": [
    "#define the general function to answer both questions 1 and 2\n",
    "\n",
    "def find_error(n, p):\n",
    "    mean = n*p #binomial distribution\n",
    "    variance = n*p*(1-p)\n",
    "    #normal approximation\n",
    "    samples = np.array(sts.norm(loc=mean, scale = np.sqrt(variance)).rvs(100000))/n\n",
    "    errors = samples - p\n",
    "    error_confint = np.percentile(errors, [2.5, 97.5])\n",
    "    return list(map(round, error_confint*100))[1]\n",
    "    "
   ]
  },
  {
   "cell_type": "code",
   "execution_count": 3,
   "metadata": {},
   "outputs": [
    {
     "data": {
      "text/plain": [
       "2.0"
      ]
     },
     "execution_count": 3,
     "metadata": {},
     "output_type": "execute_result"
    }
   ],
   "source": [
    "find_error(1000, 0.1) #This returns 2%, as expected."
   ]
  },
  {
   "cell_type": "markdown",
   "metadata": {},
   "source": [
    "We can use the binomial distribution because each vote can be viewed as a trial with success rate of p (that candidate is voted for) and failure rate of 1-p (the candidate is not voted for)."
   ]
  },
  {
   "cell_type": "code",
   "execution_count": 4,
   "metadata": {},
   "outputs": [],
   "source": [
    "#Question 2: use the function defined above\n",
    "lst_sample = [1000, 750, 500, 250, 100]\n",
    "lst_percent = [0.1,0.2,0.3,0.4,0.5,0.6,0.7,0.8,0.9]"
   ]
  },
  {
   "cell_type": "code",
   "execution_count": 5,
   "metadata": {},
   "outputs": [],
   "source": [
    "lst_result=[[] for i in range(len(lst_sample))]\n",
    "for i in lst_sample:\n",
    "    for j in lst_percent:\n",
    "        lst_result[lst_sample.index(i)].append(find_error(i, j))"
   ]
  },
  {
   "cell_type": "code",
   "execution_count": 6,
   "metadata": {},
   "outputs": [
    {
     "data": {
      "text/plain": [
       "[[2.0, 2.0, 3.0, 3.0, 3.0, 3.0, 3.0, 2.0, 2.0],\n",
       " [2.0, 3.0, 3.0, 4.0, 4.0, 4.0, 3.0, 3.0, 2.0],\n",
       " [3.0, 4.0, 4.0, 4.0, 4.0, 4.0, 4.0, 4.0, 3.0],\n",
       " [4.0, 5.0, 6.0, 6.0, 6.0, 6.0, 6.0, 5.0, 4.0],\n",
       " [6.0, 8.0, 9.0, 10.0, 10.0, 10.0, 9.0, 8.0, 6.0]]"
      ]
     },
     "execution_count": 6,
     "metadata": {},
     "output_type": "execute_result"
    }
   ],
   "source": [
    "lst_result #this is essentially transposed, but is still enough to compare with the table given"
   ]
  },
  {
   "cell_type": "markdown",
   "metadata": {},
   "source": [
    "We see that this is slightly different from the given table - specifically it seems the results here is always equal to or lower than the given results in the article. I'm not sure where the error comes from  though"
   ]
  },
  {
   "cell_type": "code",
   "execution_count": null,
   "metadata": {},
   "outputs": [],
   "source": []
  }
 ],
 "metadata": {
  "kernelspec": {
   "display_name": "Python 3",
   "language": "python",
   "name": "python3"
  },
  "language_info": {
   "codemirror_mode": {
    "name": "ipython",
    "version": 3
   },
   "file_extension": ".py",
   "mimetype": "text/x-python",
   "name": "python",
   "nbconvert_exporter": "python",
   "pygments_lexer": "ipython3",
   "version": "3.8.3"
  }
 },
 "nbformat": 4,
 "nbformat_minor": 4
}
